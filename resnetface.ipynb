{
 "cells": [
  {
   "cell_type": "markdown",
   "metadata": {},
   "source": [
    "# Resnet 18 on faces "
   ]
  },
  {
   "cell_type": "code",
   "execution_count": 1,
   "metadata": {},
   "outputs": [],
   "source": [
    "import torch\n",
    "import torchvision\n",
    "import torchvision.transforms as transforms\n",
    "import resnet\n",
    "import torch.optim as optim\n",
    "import torch.nn as nn\n",
    "import numpy as np\n",
    "import matplotlib.pyplot as plt\n",
    "import random\n",
    "import resnet\n"
   ]
  },
  {
   "cell_type": "code",
   "execution_count": 2,
   "metadata": {},
   "outputs": [],
   "source": [
    "batchsize = 75\n",
    "rate = 0.1\n",
    "epochs = 200\n",
    "lr_decay = 0.85\n",
    "lr_stride = 5"
   ]
  },
  {
   "cell_type": "code",
   "execution_count": 3,
   "metadata": {},
   "outputs": [],
   "source": [
    "class FaceDataset(torch.utils.data.Dataset):\n",
    "\n",
    "    def __init__(self, transform, train=True):\n",
    "        self.image_prefix = \"face_renders/face\"\n",
    "        self.image_suffix = \".jpg\"\n",
    "        self.vertex_prefix = \"processed_faces/face\"\n",
    "        self.vertex_suffix = \".txt\"\n",
    "        self.count = 5000\n",
    "        self.trainn = 4500\n",
    "        \n",
    "        self.train = train\n",
    "        self.transform = transform\n",
    "        \n",
    "        shape = np.loadtxt(self.vertex_prefix + str(1) + self.vertex_suffix).shape\n",
    "        tmp = np.zeros((self.count, shape[0], shape[1]))\n",
    "        for i in range(self.count):\n",
    "            tmp[i] = np.loadtxt(self.vertex_prefix + str(i + 1) + self.vertex_suffix)\n",
    "            \n",
    "        self.mean = np.mean(tmp, axis=0)\n",
    "        self.outputdim = shape[0] * shape[1]\n",
    "        self.labels = [torch.from_numpy((lab - self.mean).reshape(self.outputdim)).float() for lab in tmp]\n",
    "            \n",
    "        # simple version for working with CWD\n",
    "        \n",
    "\n",
    "    def __len__(self):\n",
    "        if self.train:\n",
    "            return self.trainn\n",
    "        else:\n",
    "            return self.count - self.trainn\n",
    "\n",
    "    def __getitem__(self, idx):\n",
    "        if not train:\n",
    "            idx += self.trainn\n",
    "        y = self.labels[idx]\n",
    "        x = plt.imread(self.image_prefix + str(idx + 1) + self.image_suffix)\n",
    "        \n",
    "        sample = (x,y)\n",
    "        sample = (self.transform(sample[0]), sample[1])\n",
    "\n",
    "        return sample"
   ]
  },
  {
   "cell_type": "code",
   "execution_count": 4,
   "metadata": {},
   "outputs": [],
   "source": [
    "transform = transforms.Compose(\n",
    "    [transforms.ToTensor(),\n",
    "     transforms.Normalize((0.5, 0.5, 0.5), (0.5, 0.5, 0.5))])\n",
    "\n",
    "trainset = FaceDataset(transform, train=True)\n",
    "trainloader = torch.utils.data.DataLoader(trainset, batch_size=batchsize,\n",
    "                                          shuffle=True, num_workers=0)\n",
    "\n",
    "testset = FaceDataset(transform, train=False)\n",
    "testloader = torch.utils.data.DataLoader(trainset, batch_size=batchsize,\n",
    "                                          shuffle=True, num_workers=0)\n"
   ]
  },
  {
   "cell_type": "code",
   "execution_count": 5,
   "metadata": {},
   "outputs": [
    {
     "name": "stdout",
     "output_type": "stream",
     "text": [
      "torch.cuda.is_available()   = True\n",
      "torch.cuda.device_count()   = 1\n",
      "torch.cuda.device('cuda')   = <torch.cuda.device object at 0x00000272CB0349E8>\n",
      "torch.cuda.current_device() = 0\n"
     ]
    }
   ],
   "source": [
    "device = torch.device(\"cuda:0\" if torch.cuda.is_available() else \"cpu\")\n",
    "print(\"torch.cuda.is_available()   =\", torch.cuda.is_available())\n",
    "print(\"torch.cuda.device_count()   =\", torch.cuda.device_count())\n",
    "print(\"torch.cuda.device('cuda')   =\", torch.cuda.device(0))\n",
    "print(\"torch.cuda.current_device() =\", torch.cuda.current_device())\n",
    "\n",
    "def to_device(data, device):\n",
    "    if isinstance(data, (list, tuple)):\n",
    "        return [to_device(x, device) for x in data]\n",
    "    return data.to(device, non_blocking=True)\n",
    "\n",
    "class DeviceDataLoader():\n",
    "    def __init__(self, dl, device):\n",
    "        self.dl = dl\n",
    "        self.device = device\n",
    "    \n",
    "    def __iter__(self):\n",
    "        for b in self.dl:\n",
    "            yield to_device(b, self.device)\n",
    "    \n",
    "    def __len__(self):\n",
    "        return len(self.dl)\n",
    "    \n",
    "trainloader = DeviceDataLoader(trainloader, device)\n",
    "testloader = DeviceDataLoader(testloader, device)"
   ]
  },
  {
   "cell_type": "code",
   "execution_count": 6,
   "metadata": {},
   "outputs": [],
   "source": [
    "model = resnet.resnet18(output_size=trainset.outputdim)\n",
    "model.to(device)\n",
    "optimizer = optim.SGD(model.parameters(), lr=rate)\n",
    "\n",
    "criterion = nn.MSELoss()\n",
    "\n",
    "def adjust_learning_rate(optimizer, epoch, decay, stride):\n",
    "    lr = rate * (decay ** (epoch // stride))\n",
    "    for param_group in optimizer.param_groups:\n",
    "        param_group['lr'] = lr\n"
   ]
  },
  {
   "cell_type": "code",
   "execution_count": 9,
   "metadata": {},
   "outputs": [],
   "source": [
    "def train(model, optimizer, criterion, epochs, trainloader, testloader):\n",
    "    model.train()\n",
    "    samples = 1\n",
    "    losses = []\n",
    "    test_losses = []\n",
    "    k = len(trainloader)// samples\n",
    "    \n",
    "    for epoch in range(epochs):  # loop over the dataset multiple times\n",
    "        running_loss = 0.0\n",
    "        for i, data in enumerate(trainloader, 0):\n",
    "            # get the inputs\n",
    "            inputs, labels = data\n",
    "\n",
    "            # zero the parameter gradients\n",
    "            optimizer.zero_grad()\n",
    "\n",
    "            # forward + backward + optimize\n",
    "            outputs = model(inputs)\n",
    "            loss = criterion(outputs, labels)\n",
    "            loss.backward()\n",
    "            optimizer.step()\n",
    "\n",
    "            # print statistics\n",
    "            running_loss += loss.item()\n",
    "            if i % k == k - 1:\n",
    "\n",
    "                losses.append(running_loss / k)\n",
    "                \n",
    "                testloss = 0\n",
    "                total = 0\n",
    "                iterations = 0\n",
    "                with torch.no_grad():\n",
    "                    for data in testloader:\n",
    "                        images, labels = data\n",
    "                        outputs = model(images)\n",
    "                        testloss += criterion(outputs, labels)\n",
    "                        total += labels.size(0)\n",
    "                        iterations += 1\n",
    "                        if total > 200:\n",
    "                            break\n",
    "                test_losses.append(testloss / iterations)\n",
    "                \n",
    "                print('[%d, %5d] loss: %.3f test_loss: %.3f' %(epoch + 1, i + 1,losses[-1],test_losses[-1]))\n",
    "\n",
    "                running_loss = 0.0\n",
    "                \n",
    "        adjust_learning_rate(optimizer, epoch+1, lr_decay, lr_stride)\n",
    "\n",
    "    print('Finished Training')\n",
    "    plt.plot(np.arange(0, len(losses)/samples, 1.0/samples), losses)\n",
    "    plt.title(\"loss\")\n",
    "    plt.xlabel(\"epoch\")\n",
    "    plt.ylabel(\"loss\")\n",
    "    plt.show()\n",
    "    \n",
    "    plt.plot(np.arange(0, len(test_losses)/samples, 1.0/samples), test_losses)\n",
    "    plt.title(\"test_loss\")\n",
    "    plt.xlabel(\"epoch\")\n",
    "    plt.ylabel(\"test_losses\")\n",
    "    plt.show()\n"
   ]
  },
  {
   "cell_type": "code",
   "execution_count": 10,
   "metadata": {},
   "outputs": [
    {
     "name": "stdout",
     "output_type": "stream",
     "text": [
      "[1,    90] loss: 7.498 test_loss: 7.152\n",
      "[2,    90] loss: 6.272 test_loss: 5.867\n",
      "[3,    90] loss: 5.566 test_loss: 5.639\n",
      "[4,    90] loss: 5.390 test_loss: 5.425\n",
      "[5,    90] loss: 5.160 test_loss: 5.088\n",
      "[6,    90] loss: 4.810 test_loss: 4.738\n",
      "[7,    90] loss: 4.547 test_loss: 4.489\n",
      "[8,    90] loss: 4.346 test_loss: 4.347\n",
      "[9,    90] loss: 4.209 test_loss: 4.223\n",
      "[10,    90] loss: 4.093 test_loss: 4.085\n",
      "[11,    90] loss: 3.953 test_loss: 3.975\n",
      "[12,    90] loss: 3.836 test_loss: 3.839\n",
      "[13,    90] loss: 3.725 test_loss: 3.688\n",
      "[14,    90] loss: 3.628 test_loss: 3.537\n",
      "[15,    90] loss: 3.503 test_loss: 3.403\n",
      "[16,    90] loss: 3.373 test_loss: 3.336\n",
      "[17,    90] loss: 3.276 test_loss: 3.236\n",
      "[18,    90] loss: 3.206 test_loss: 3.141\n",
      "[19,    90] loss: 3.156 test_loss: 3.091\n",
      "[20,    90] loss: 3.088 test_loss: 3.042\n",
      "[21,    90] loss: 3.011 test_loss: 2.966\n",
      "[22,    90] loss: 2.949 test_loss: 2.929\n",
      "[23,    90] loss: 2.904 test_loss: 2.877\n",
      "[24,    90] loss: 2.868 test_loss: 2.837\n",
      "[25,    90] loss: 2.843 test_loss: 2.829\n",
      "[26,    90] loss: 2.816 test_loss: 2.790\n",
      "[27,    90] loss: 2.782 test_loss: 2.754\n",
      "[28,    90] loss: 2.757 test_loss: 2.728\n",
      "[29,    90] loss: 2.736 test_loss: 2.700\n",
      "[30,    90] loss: 2.717 test_loss: 2.684\n",
      "[31,    90] loss: 2.700 test_loss: 2.664\n",
      "[32,    90] loss: 2.684 test_loss: 2.646\n",
      "[33,    90] loss: 2.669 test_loss: 2.632\n",
      "[34,    90] loss: 2.655 test_loss: 2.618\n",
      "[35,    90] loss: 2.641 test_loss: 2.608\n",
      "[36,    90] loss: 2.629 test_loss: 2.599\n",
      "[37,    90] loss: 2.617 test_loss: 2.587\n",
      "[38,    90] loss: 2.606 test_loss: 2.577\n",
      "[39,    90] loss: 2.595 test_loss: 2.567\n",
      "[40,    90] loss: 2.583 test_loss: 2.557\n",
      "[41,    90] loss: 2.574 test_loss: 2.551\n",
      "[42,    90] loss: 2.565 test_loss: 2.543\n",
      "[43,    90] loss: 2.556 test_loss: 2.534\n",
      "[44,    90] loss: 2.547 test_loss: 2.525\n",
      "[45,    90] loss: 2.538 test_loss: 2.517\n",
      "[46,    90] loss: 2.531 test_loss: 2.512\n",
      "[47,    90] loss: 2.523 test_loss: 2.505\n",
      "[48,    90] loss: 2.516 test_loss: 2.498\n",
      "[49,    90] loss: 2.509 test_loss: 2.491\n",
      "[50,    90] loss: 2.501 test_loss: 2.484\n",
      "[51,    90] loss: 2.496 test_loss: 2.480\n",
      "[52,    90] loss: 2.490 test_loss: 2.474\n",
      "[53,    90] loss: 2.484 test_loss: 2.468\n",
      "[54,    90] loss: 2.478 test_loss: 2.462\n",
      "[55,    90] loss: 2.472 test_loss: 2.456\n",
      "[56,    90] loss: 2.469 test_loss: 2.453\n",
      "[57,    90] loss: 2.464 test_loss: 2.448\n",
      "[58,    90] loss: 2.459 test_loss: 2.443\n",
      "[59,    90] loss: 2.454 test_loss: 2.439\n",
      "[60,    90] loss: 2.449 test_loss: 2.434\n",
      "[61,    90] loss: 2.447 test_loss: 2.432\n",
      "[62,    90] loss: 2.443 test_loss: 2.427\n",
      "[63,    90] loss: 2.439 test_loss: 2.423\n",
      "[64,    90] loss: 2.435 test_loss: 2.419\n",
      "[65,    90] loss: 2.431 test_loss: 2.415\n",
      "[66,    90] loss: 2.430 test_loss: 2.414\n",
      "[67,    90] loss: 2.427 test_loss: 2.410\n",
      "[68,    90] loss: 2.423 test_loss: 2.407\n",
      "[69,    90] loss: 2.420 test_loss: 2.404\n",
      "[70,    90] loss: 2.417 test_loss: 2.400\n",
      "[71,    90] loss: 2.416 test_loss: 2.399\n",
      "[72,    90] loss: 2.414 test_loss: 2.396\n",
      "[73,    90] loss: 2.411 test_loss: 2.393\n",
      "[74,    90] loss: 2.409 test_loss: 2.390\n",
      "[75,    90] loss: 2.406 test_loss: 2.388\n",
      "[76,    90] loss: 2.405 test_loss: 2.386\n",
      "[77,    90] loss: 2.403 test_loss: 2.384\n",
      "[78,    90] loss: 2.401 test_loss: 2.382\n",
      "[79,    90] loss: 2.399 test_loss: 2.380\n",
      "[80,    90] loss: 2.397 test_loss: 2.378\n",
      "[81,    90] loss: 2.397 test_loss: 2.376\n",
      "[82,    90] loss: 2.395 test_loss: 2.375\n",
      "[83,    90] loss: 2.394 test_loss: 2.373\n",
      "[84,    90] loss: 2.392 test_loss: 2.371\n",
      "[85,    90] loss: 2.390 test_loss: 2.369\n",
      "[86,    90] loss: 2.390 test_loss: 2.368\n",
      "[87,    90] loss: 2.389 test_loss: 2.367\n",
      "[88,    90] loss: 2.388 test_loss: 2.366\n",
      "[89,    90] loss: 2.386 test_loss: 2.364\n",
      "[90,    90] loss: 2.385 test_loss: 2.363\n",
      "[91,    90] loss: 2.385 test_loss: 2.362\n",
      "[92,    90] loss: 2.384 test_loss: 2.361\n",
      "[93,    90] loss: 2.383 test_loss: 2.360\n",
      "[94,    90] loss: 2.382 test_loss: 2.359\n",
      "[95,    90] loss: 2.381 test_loss: 2.358\n",
      "[96,    90] loss: 2.381 test_loss: 2.357\n",
      "[97,    90] loss: 2.380 test_loss: 2.356\n",
      "[98,    90] loss: 2.379 test_loss: 2.355\n",
      "[99,    90] loss: 2.378 test_loss: 2.354\n",
      "[100,    90] loss: 2.377 test_loss: 2.353\n",
      "Finished Training\n"
     ]
    },
    {
     "data": {
      "image/png": "[encoded data removed]",
      "text/plain": [
       "<Figure size 432x288 with 1 Axes>"
      ]
     },
     "metadata": {
      "needs_background": "light"
     },
     "output_type": "display_data"
    },
    {
     "data": {
      "image/png": "[encoded data removed]",
      "text/plain": [
       "<Figure size 432x288 with 1 Axes>"
      ]
     },
     "metadata": {
      "needs_background": "light"
     },
     "output_type": "display_data"
    }
   ],
   "source": [
    "train(model, optimizer, criterion, epochs, trainloader, testloader)"
   ]
  },
  {
   "cell_type": "code",
   "execution_count": 11,
   "metadata": {},
   "outputs": [],
   "source": [
    "torch.save(model.state_dict(), \"res18b\" + str(batchsize) + \"r\" + str(rate) + \"e\" + str(epochs) + \".statedict\")"
   ]
  },
  {
   "cell_type": "code",
   "execution_count": null,
   "metadata": {},
   "outputs": [],
   "source": [
    "with torch.no_grad():\n",
    "    d = next(testloader.__iter__())\n",
    "    images, labels = d\n",
    "    outputs = model(images)\n",
    "    \n",
    "    print(trainset.mean)\n",
    "    print(outputs[0])\n",
    "    print(labels[0])\n",
    "    print(np.linalg.norm((labels[0] - outputs[0]).to('cpu').numpy()))\n",
    "    "
   ]
  },
  {
   "cell_type": "code",
   "execution_count": null,
   "metadata": {},
   "outputs": [],
   "source": []
  }
 ],
 "metadata": {
  "kernelspec": {
   "display_name": "Python 3",
   "language": "python",
   "name": "python3"
  },
  "language_info": {
   "codemirror_mode": {
    "name": "ipython",
    "version": 3
   },
   "file_extension": ".py",
   "mimetype": "text/x-python",
   "name": "python",
   "nbconvert_exporter": "python",
   "pygments_lexer": "ipython3",
   "version": "3.7.0"
  }
 },
 "nbformat": 4,
 "nbformat_minor": 2
}
